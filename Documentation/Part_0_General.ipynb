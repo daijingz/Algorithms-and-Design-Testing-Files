{
 "cells": [
  {
   "cell_type": "markdown",
   "metadata": {},
   "source": [
    "<h1>Web Applications Documentation Part 0: General Introduction</h1>"
   ]
  },
  {
   "cell_type": "markdown",
   "metadata": {},
   "source": [
    "<b>Author: Jingze Dai</b>\n",
    "<p>McMaster University, Honors Computer Science (Coop) student (Currently 4th year)</p>\n",
    "<p>Preferred Email Address: daij24@mcmaster.ca</p>\n",
    "<p>Email Address: david1147062956@163.com</p>\n",
    "<a href=\"https://github.com/daijingz\">Github Homepage</a>\n",
    "<a href=\"https://www.linkedin.com/in/jingze-dai/\">Linkedin Webpage</a>"
   ]
  },
  {
   "cell_type": "markdown",
   "metadata": {},
   "source": [
    "<i>This project is a combination of web applications. It is mainly developed by CSS, HTML and Javastript. A lot of advanced libraries and tools (Git, Node.js and React.js) have been used as well. It includes 2 parts: a tour website about North America tourism and a group of web-based mini games. To implement each part, users need to download all the files and open the targetted pages shown in the documentation folder.</i>"
   ]
  },
  {
   "cell_type": "markdown",
   "metadata": {},
   "source": [
    "<i>Because of time limits, lots of works have not been uploaded to this repository. Sorry for inconvenience. More Information is coming soon.</i>"
   ]
  },
  {
   "cell_type": "markdown",
   "metadata": {},
   "source": [
    "<i>Your Feedback is important for David's further development. If you want to give feedbacks and suggestions, or you want to participate in working and learning together, please email David at daij24@mcmaster.ca. If you want David to provide contributions to your opensource project or you want David to help you with any programming issues, please email David at daij24@mcmaster.ca as well. Thank you for your help.</i>"
   ]
  },
  {
   "cell_type": "markdown",
   "metadata": {},
   "source": [
    "<b>Module 1: North America Tour Websites</b>\n",
    "<p>Tourism is an important part of life. And north America is a good place for people to visit. This is a website about north America tours. This website divides its content into 4 parts: USA, Canada, Central America and Others. It includes the introduction of beautiful places worthed visiting (with history), traveling tips (mostly necessary), background information of countries and other necessary information people need to know before taking trips.</p>\n",
    "<p>Used languages, libraries and tools: <b>Javascript, CSS, HTML</b></p>\n",
    "<br>\n",
    "<b>Homepage Overview</b>\n",
    "<img src=\"img/Homepage.png\" alt=\"Homepage\">"
   ]
  },
  {
   "cell_type": "markdown",
   "metadata": {},
   "source": [
    "<b>Module 2: Web mini-games</b>\n",
    "<p>This part includes a group of web-based mini games on the webpage. Those web-based mini games are practical front-end web applications. </p>\n",
    "<p>Used languages, libraries and tools: <b>Javascript, CSS, HTML</b></p>\n",
    "<br>\n",
    "<b>List of mini-games</b>\n",
    "\n",
    "<br>\n",
    "<b>Overview</b>"
   ]
  },
  {
   "cell_type": "markdown",
   "metadata": {},
   "source": [
    "<b>Module 3: Early applications of Node.js and React.js library</b>\n",
    "<p>This part includes </p>"
   ]
  },
  {
   "cell_type": "markdown",
   "metadata": {},
   "source": [
    "<b>Module 4: </b>"
   ]
  },
  {
   "cell_type": "code",
   "execution_count": null,
   "metadata": {},
   "outputs": [],
   "source": []
  }
 ],
 "metadata": {
  "kernelspec": {
   "display_name": "Python 3",
   "language": "python",
   "name": "python3"
  },
  "language_info": {
   "codemirror_mode": {
    "name": "ipython",
    "version": 3
   },
   "file_extension": ".py",
   "mimetype": "text/x-python",
   "name": "python",
   "nbconvert_exporter": "python",
   "pygments_lexer": "ipython3",
   "version": "3.8.5"
  }
 },
 "nbformat": 4,
 "nbformat_minor": 4
}
