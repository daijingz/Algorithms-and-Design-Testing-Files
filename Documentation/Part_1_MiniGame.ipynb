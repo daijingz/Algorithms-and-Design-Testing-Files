{
 "cells": [
  {
   "cell_type": "markdown",
   "metadata": {},
   "source": [
    "<h1>Web Applications Documentation Part 1: Mini Games</h1>"
   ]
  },
  {
   "cell_type": "markdown",
   "metadata": {},
   "source": [
    "<b>Author: Jingze Dai</b>\n",
    "<p>McMaster University, Honors Computer Science (Coop) student (Currently 4th year)</p>\n",
    "<p>Preferred Email Address: daij24@mcmaster.ca</p>\n",
    "<p>Email Address: david1147062956@163.com</p>\n",
    "<a href=\"https://github.com/daijingz\">Github Homepage</a>\n",
    "<a href=\"https://www.linkedin.com/in/jingze-dai/\">Linkedin Webpage</a>"
   ]
  },
  {
   "cell_type": "markdown",
   "metadata": {},
   "source": [
    "<i>This project is a combination of web applications. It is mainly developed by CSS, HTML and Javastript. A lot of advanced libraries and tools (Git, Node.js and React.js) have been used as well. It includes 2 parts: a tour website about North America tourism and a group of web-based mini games. To implement each part, users need to download all the files and open the targetted pages shown in the documentation folder.</i>"
   ]
  },
  {
   "cell_type": "markdown",
   "metadata": {},
   "source": [
    "<i>Because of time limits, lots of works have not been uploaded to this repository. Sorry for inconvenience. Content is coming soon.</i>"
   ]
  },
  {
   "cell_type": "markdown",
   "metadata": {},
   "source": [
    "<i>Your Feedback is important for David's further development. If you want to give feedbacks or suggestions, please email David at daij24@mcmaster.ca.</i>"
   ]
  },
  {
   "cell_type": "markdown",
   "metadata": {},
   "source": [
    "<b>Game 1: 15-Puzzle Game</b>\n",
    "<p>Initially each player will get a 4 * 4 (16 tiles in grid) board with randomized numbers (1 to 15), and there is an empty block (without numbers). Player's goal is to move tiles to make this game board fulfils the ordered situation: </p>\n",
    "<p> 1  2  3  4 </p>\n",
    "<p> 5  6  7  8 </p>\n",
    "<p> 9  10  11  12 </p>\n",
    "<p> 13  14  15  (Empty block) </p>\n"
   ]
  },
  {
   "cell_type": "markdown",
   "metadata": {},
   "source": [
    "<b>Game 2: Flappy Bird Game</b>"
   ]
  },
  {
   "cell_type": "code",
   "execution_count": null,
   "metadata": {},
   "outputs": [],
   "source": []
  }
 ],
 "metadata": {
  "kernelspec": {
   "display_name": "Python 3",
   "language": "python",
   "name": "python3"
  },
  "language_info": {
   "codemirror_mode": {
    "name": "ipython",
    "version": 3
   },
   "file_extension": ".py",
   "mimetype": "text/x-python",
   "name": "python",
   "nbconvert_exporter": "python",
   "pygments_lexer": "ipython3",
   "version": "3.8.5"
  }
 },
 "nbformat": 4,
 "nbformat_minor": 4
}
